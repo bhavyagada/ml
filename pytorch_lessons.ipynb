{
 "cells": [
  {
   "cell_type": "code",
   "execution_count": 50,
   "metadata": {},
   "outputs": [],
   "source": [
    "import torch\n",
    "import torch.nn.functional as F"
   ]
  },
  {
   "cell_type": "code",
   "execution_count": 23,
   "metadata": {},
   "outputs": [
    {
     "data": {
      "text/plain": [
       "tensor([[0., 0., 0.],\n",
       "        [0., 0., 0.],\n",
       "        [0., 0., 0.]])"
      ]
     },
     "execution_count": 23,
     "metadata": {},
     "output_type": "execute_result"
    }
   ],
   "source": [
    "# torch is row-major\n",
    "\n",
    "# create tensor of shape filled with 0.\n",
    "# 2d tensor of 3 rows and 3 columns \n",
    "torch.zeros((3,3)) # default dtype float32"
   ]
  },
  {
   "cell_type": "code",
   "execution_count": 18,
   "metadata": {},
   "outputs": [
    {
     "data": {
      "text/plain": [
       "tensor([0, 1, 2, 3])"
      ]
     },
     "execution_count": 18,
     "metadata": {},
     "output_type": "execute_result"
    }
   ],
   "source": [
    "# convert python list to tensor\n",
    "xs = [0,1,2,3]\n",
    "torch.tensor(xs)"
   ]
  },
  {
   "cell_type": "code",
   "execution_count": 19,
   "metadata": {},
   "outputs": [
    {
     "data": {
      "text/plain": [
       "tensor([[ 0.4742,  0.4657,  0.4172],\n",
       "        [-1.4158,  0.3282, -0.9178],\n",
       "        [ 1.7138, -0.7765,  0.2281]])"
      ]
     },
     "execution_count": 19,
     "metadata": {},
     "output_type": "execute_result"
    }
   ],
   "source": [
    "# generate random numbers from standard normal distribution (mean 0 variance 1)\n",
    "torch.randn((3,3))"
   ]
  },
  {
   "cell_type": "code",
   "execution_count": 20,
   "metadata": {},
   "outputs": [
    {
     "data": {
      "text/plain": [
       "tensor([0, 1, 2, 3, 4])"
      ]
     },
     "execution_count": 20,
     "metadata": {},
     "output_type": "execute_result"
    }
   ],
   "source": [
    "# generate numbers in a range\n",
    "torch.arange(5)"
   ]
  },
  {
   "cell_type": "code",
   "execution_count": 28,
   "metadata": {},
   "outputs": [
    {
     "name": "stdout",
     "output_type": "stream",
     "text": [
      "tensor([5, 7, 9]) torch.Size([3])\n",
      "tensor([ 6, 15]) torch.Size([2])\n",
      "tensor([[5, 7, 9]]) torch.Size([1, 3])\n",
      "tensor([[ 6],\n",
      "        [15]]) torch.Size([2, 1])\n"
     ]
    }
   ],
   "source": [
    "x = torch.tensor([[1,2,3], [4,5,6]]) # tensor of shape (2,3)\n",
    "\n",
    "# keepdim is False by default so the dimension along which the sum is taken is not kept\n",
    "row = x.sum(0) # collapse rows (column-wise sum)\n",
    "col = x.sum(1) # collapse columns (row-wise sum)\n",
    "print(row, row.shape) # shape changes to (3) i.e. column size\n",
    "print(col, col.shape) # shape changes to (2) i.e. row size\n",
    "\n",
    "# keepdim keep the dimensions\n",
    "row = x.sum(0, keepdim=True) # collapse rows (column-wise sum)\n",
    "col = x.sum(1, keepdim=True) # collapse columns (row-wise sum)\n",
    "print(row, row.shape) # shape changes to (1,3) i.e. the collapsed row dimension is kept\n",
    "print(col, col.shape) # shape changes to (2,1) i.e. the collapsed column dimension is kept"
   ]
  },
  {
   "cell_type": "code",
   "execution_count": null,
   "metadata": {},
   "outputs": [
    {
     "data": {
      "text/plain": [
       "tensor([0, 0, 1, 1, 1, 1, 1, 0, 1, 0])"
      ]
     },
     "execution_count": 49,
     "metadata": {},
     "output_type": "execute_result"
    }
   ],
   "source": [
    "# sample from multinomial distribution\n",
    "\n",
    "p = torch.tensor([0.3, 0.7, 0.0])\n",
    "# pick 10 samples such that the sample probability is p\n",
    "# p = [0.3, 0.7, 0.0] means ~30% chance of 0, ~70% chance of 1, 0% chance of 2\n",
    "# with replacement=True, each sample is independent\n",
    "torch.multinomial(p, num_samples=10, replacement=True)"
   ]
  },
  {
   "cell_type": "code",
   "execution_count": null,
   "metadata": {},
   "outputs": [
    {
     "data": {
      "text/plain": [
       "tensor([[1., 0., 0., 0., 0.],\n",
       "        [0., 1., 0., 0., 0.],\n",
       "        [0., 0., 1., 0., 0.]])"
      ]
     },
     "execution_count": 57,
     "metadata": {},
     "output_type": "execute_result"
    }
   ],
   "source": [
    "# one hot encode\n",
    "# used to deal with categorical data\n",
    "# reformat categorical data into usable vector form to be fed into neural networks\n",
    "# creates vector of size(total categories) where true category is 1 and every other category is 0\n",
    "xs = torch.tensor([0,1,2])\n",
    "F.one_hot(xs, num_classes=5).float()"
   ]
  },
  {
   "cell_type": "code",
   "execution_count": null,
   "metadata": {},
   "outputs": [
    {
     "name": "stdout",
     "output_type": "stream",
     "text": [
      "tensor(1)\n",
      "tensor(14)\n",
      "tensor([ 2,  7, 12])\n",
      "tensor([ 2,  7, 12])\n"
     ]
    }
   ],
   "source": [
    "# indexing\n",
    "\n",
    "x = torch.tensor([[1,2,3,4,5], [6,7,8,9,10], [11,12,13,14,15]])\n",
    "print(x[0,0]) # 0th row, 0th column => 1\n",
    "print(x[2,3]) # 2nd row, 3rd column => 14\n",
    "print(x[torch.arange(3), 1]) # all rows, 1st column => [2,7,12], or..\n",
    "print(x[:, 1]) # all rows, 1st column => [2,7,12]\n"
   ]
  },
  {
   "cell_type": "code",
   "execution_count": null,
   "metadata": {},
   "outputs": [
    {
     "name": "stdout",
     "output_type": "stream",
     "text": [
      "torch.int64\n",
      "torch.int32\n",
      "torch.float32\n"
     ]
    }
   ],
   "source": [
    "# convert dtypes\n",
    "x = torch.tensor([1,2,3])\n",
    "print(x.dtype) # int64\n",
    "x = x.type(torch.int32)\n",
    "print(x.dtype) # int32\n",
    "x = x.type(torch.float32)\n",
    "print(x.dtype) # float32"
   ]
  },
  {
   "cell_type": "code",
   "execution_count": null,
   "metadata": {},
   "outputs": [],
   "source": []
  }
 ],
 "metadata": {
  "kernelspec": {
   "display_name": ".venv",
   "language": "python",
   "name": "python3"
  },
  "language_info": {
   "codemirror_mode": {
    "name": "ipython",
    "version": 3
   },
   "file_extension": ".py",
   "mimetype": "text/x-python",
   "name": "python",
   "nbconvert_exporter": "python",
   "pygments_lexer": "ipython3",
   "version": "3.12.8"
  }
 },
 "nbformat": 4,
 "nbformat_minor": 2
}
